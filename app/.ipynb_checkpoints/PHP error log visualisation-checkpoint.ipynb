{
 "cells": [
  {
   "cell_type": "markdown",
   "metadata": {
    "deletable": true,
    "editable": true
   },
   "source": [
    "# Events / day"
   ]
  },
  {
   "cell_type": "markdown",
   "metadata": {
    "collapsed": true,
    "deletable": true,
    "editable": true
   },
   "source": [
    "The following code displays the amount of events per day"
   ]
  },
  {
   "cell_type": "code",
   "execution_count": null,
   "metadata": {
    "collapsed": false,
    "deletable": true,
    "editable": true
   },
   "outputs": [],
   "source": [
    "import re\n",
    "import datetime\n",
    "import matplotlib.pyplot as plt\n",
    "from dateutil.parser import parse\n",
    "import numpy as np\n",
    "\n",
    "infile = r\"../include/php_error.log\"\n",
    "\n",
    "event_date_list = []\n",
    "event_count = []\n",
    "previous_match = False\n",
    "\n",
    "\n",
    "    \n",
    "with open(infile) as f:\n",
    "    f = f.readlines()\n",
    "\n",
    "    \n",
    "for idx, line in enumerate(f):\n",
    "        match = re.findall(r\"\\[\\s*(\\d+-\\D+-.*?)\\s\", line)\n",
    "        if match:\n",
    "            if not previous_match or match != previous_match:\n",
    "                dt = parse(match[0])\n",
    "                event_date_list.append(dt)\n",
    "                event_count.append(1)\n",
    "                previous_match = match\n",
    "            else:\n",
    "                event_count[-1] = event_count[-1] + 1\n",
    "                \n",
    "\n",
    "fig = plt.figure(figsize=(35,20))\n",
    "\n",
    "width = .25\n",
    "ind = np.arange(len(event_count))\n",
    "plt.bar(ind, event_count, width=width)\n",
    "plt.xticks(ind + width / 2, event_date_list)\n",
    "\n",
    "fig.autofmt_xdate()\n",
    "\n",
    "plt.show()\n"
   ]
  },
  {
   "cell_type": "markdown",
   "metadata": {
    "deletable": true,
    "editable": true
   },
   "source": [
    "# Excluding certain days"
   ]
  },
  {
   "cell_type": "markdown",
   "metadata": {
    "deletable": true,
    "editable": true
   },
   "source": [
    "The following code excludes exceptional high event days to increase output detail"
   ]
  },
  {
   "cell_type": "code",
   "execution_count": null,
   "metadata": {
    "collapsed": false,
    "deletable": true,
    "editable": true,
    "scrolled": false
   },
   "outputs": [],
   "source": [
    "import re\n",
    "import datetime\n",
    "import matplotlib.pyplot as plt\n",
    "from dateutil.parser import parse\n",
    "import numpy as np\n",
    "\n",
    "infile = r\"../include/php_error.log\"\n",
    "\n",
    "restricted_days_list = ['27-Mar-2016', '30-Apr-2016']\n",
    "event_date_list = []\n",
    "event_count = []\n",
    "previous_match = False\n",
    "\n",
    "    \n",
    "with open(infile) as f:\n",
    "    f = f.readlines()\n",
    "\n",
    "    \n",
    "for idx, line in enumerate(f):\n",
    "        match = re.findall(r\"\\[\\s*(\\d+-\\D+-.*?)\\s\", line)\n",
    "        if match:\n",
    "            if str(match[0]) not in restricted_days_list:\n",
    "                if not previous_match or match != previous_match:\n",
    "                    dt = parse(match[0])\n",
    "                    event_date_list.append(dt)\n",
    "                    event_count.append(1)\n",
    "                    previous_match = match\n",
    "                else:\n",
    "                    event_count[-1] = event_count[-1] + 1\n",
    "\n",
    "fig = plt.figure(figsize=(35,20))\n",
    "\n",
    "width = .25\n",
    "ind = np.arange(len(event_count))\n",
    "plt.bar(ind, event_count, width=width)\n",
    "plt.xticks(ind + width / 2, event_date_list)\n",
    "\n",
    "fig.autofmt_xdate()\n",
    "\n",
    "plt.show()\n"
   ]
  },
  {
   "cell_type": "code",
   "execution_count": null,
   "metadata": {
    "collapsed": false,
    "deletable": true,
    "editable": true
   },
   "outputs": [],
   "source": [
    "import sys\n",
    "import time\n",
    "import logging\n",
    "from watchdog.observers import Observer\n",
    "from watchdog.events import LoggingEventHandler\n",
    "\n",
    "print(\"ran\")\n",
    "\n",
    "if __name__ == \"__main__\":\n",
    "    logging.basicConfig(level=logging.INFO,\n",
    "                        format='%(asctime)s - %(message)s',\n",
    "                        datefmt='%Y-%m-%d %H:%M:%S')\n",
    "    path = \"../include/php_error.log\"\n",
    "    event_handler = LoggingEventHandler()\n",
    "    observer = Observer()\n",
    "    observer.schedule(event_handler, path, recursive=True)\n",
    "    observer.start()\n",
    "    try:\n",
    "        while True:\n",
    "            time.sleep(1)\n",
    "    except KeyboardInterrupt:\n",
    "        observer.stop()\n",
    "    observer.join()"
   ]
  }
 ],
 "metadata": {
  "kernelspec": {
   "display_name": "Python 3",
   "language": "python",
   "name": "python3"
  },
  "language_info": {
   "codemirror_mode": {
    "name": "ipython",
    "version": 3
   },
   "file_extension": ".py",
   "mimetype": "text/x-python",
   "name": "python",
   "nbconvert_exporter": "python",
   "pygments_lexer": "ipython3",
   "version": "3.5.2"
  },
  "widgets": {
   "state": {
    "72e3463a9c7144fbb9f72025f02438ba": {
     "views": [
      {
       "cell_index": 4
      }
     ]
    }
   },
   "version": "1.2.0"
  }
 },
 "nbformat": 4,
 "nbformat_minor": 0
}
